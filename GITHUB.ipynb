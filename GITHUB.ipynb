{
 "cells": [
  {
   "cell_type": "code",
   "execution_count": 1,
   "id": "c0d2ede0",
   "metadata": {},
   "outputs": [
    {
     "name": "stdout",
     "output_type": "stream",
     "text": [
      "Collecting pymysql\n",
      "  Obtaining dependency information for pymysql from https://files.pythonhosted.org/packages/e5/30/20467e39523d0cfc2b6227902d3687a16364307260c75e6a1cb4422b0c62/PyMySQL-1.1.0-py3-none-any.whl.metadata\n",
      "  Downloading PyMySQL-1.1.0-py3-none-any.whl.metadata (4.4 kB)\n",
      "Downloading PyMySQL-1.1.0-py3-none-any.whl (44 kB)\n",
      "   ---------------------------------------- 0.0/44.8 kB ? eta -:--:--\n",
      "   ---------------------------------------- 44.8/44.8 kB 1.1 MB/s eta 0:00:00\n",
      "Installing collected packages: pymysql\n",
      "Successfully installed pymysql-1.1.0\n",
      "Note: you may need to restart the kernel to use updated packages.\n"
     ]
    }
   ],
   "source": [
    "pip install pymysql"
   ]
  },
  {
   "cell_type": "code",
   "execution_count": 6,
   "id": "18e9d84c",
   "metadata": {},
   "outputs": [],
   "source": [
    "# How to create an engine and connect to a database\n",
    "\n",
    "# import required libraries\n",
    "import pandas as pd\n",
    "from sqlalchemy import create_engine\n",
    "import pymysql\n",
    "from urllib.parse import quote"
   ]
  },
  {
   "cell_type": "code",
   "execution_count": 9,
   "id": "168cebdc",
   "metadata": {},
   "outputs": [],
   "source": [
    "# create engine\n",
    "engine = create_engine('mysql+pymysql://root:%s@127.0.0.1:3306/test' % quote('Insta@724'))"
   ]
  },
  {
   "cell_type": "code",
   "execution_count": 10,
   "id": "4c860f81",
   "metadata": {},
   "outputs": [],
   "source": [
    "# connection string\n",
    "conn = engine.connect()"
   ]
  },
  {
   "cell_type": "code",
   "execution_count": 13,
   "id": "8b8ded1f",
   "metadata": {},
   "outputs": [],
   "source": [
    "# read a simple query into DataFrame\n",
    "df = pd.read_sql(\"SELECT * FROM test.games\", conn)"
   ]
  },
  {
   "cell_type": "code",
   "execution_count": 14,
   "id": "f9324802",
   "metadata": {},
   "outputs": [
    {
     "name": "stdout",
     "output_type": "stream",
     "text": [
      "                       Name Platform  Year_of_Release         Genre Publisher  \\\n",
      "0                Wii Sports      Wii             2006        Sports  Nintendo   \n",
      "1         Super Mario Bros.      NES             1985      Platform  Nintendo   \n",
      "2            Mario Kart Wii      Wii             2008        Racing  Nintendo   \n",
      "3         Wii Sports Resort      Wii             2009        Sports  Nintendo   \n",
      "4  Pokemon Red/Pokemon Blue       GB             1996  Role-Playing  Nintendo   \n",
      "\n",
      "   NA_Sales  EU_Sales  JP_Sales  Other_Sales  Global_Sales Critic_Score  \\\n",
      "0     41.36     28.96      3.77         8.45         82.53           76   \n",
      "1     29.08      3.58      6.81         0.77         40.24                \n",
      "2     15.68     12.76      3.79         3.29         35.52           82   \n",
      "3     15.61     10.93      3.28         2.95         32.77           80   \n",
      "4     11.27      8.89     10.22         1.00         31.37                \n",
      "\n",
      "  Critic_Count User_Score User_Count Developer Rating  \n",
      "0           51          8        322  Nintendo      E  \n",
      "1                                                      \n",
      "2           73        8.3        709  Nintendo      E  \n",
      "3           73          8        192  Nintendo      E  \n",
      "4                                                      \n"
     ]
    }
   ],
   "source": [
    "# print DataFrame\n",
    "print(df.head())"
   ]
  },
  {
   "cell_type": "code",
   "execution_count": 15,
   "id": "ba4746d4",
   "metadata": {},
   "outputs": [
    {
     "name": "stdout",
     "output_type": "stream",
     "text": [
      "   NA_Sales  EU_Sales  JP_Sales  Global_Sales  NA_GlobalShare\n",
      "0     580.0     373.0     108.0        1203.0            48.0\n"
     ]
    }
   ],
   "source": [
    "# read a complex query into DataFrame\n",
    "complex_df = pd.read_sql('''SELECT\n",
    "    Round(SUM(NA_Sales)) as 'NA_Sales',\n",
    "    ROUND(SUM(EU_Sales)) as 'EU_Sales',\n",
    "    ROUND(SUM(JP_Sales)) as 'JP_Sales',\n",
    "    ROUND(SUM(Global_Sales)) AS 'Global_Sales',\n",
    "    ROUND((SUM(NA_Sales)/SUM(Global_Sales)) * 100) as 'NA_GlobalShare'\n",
    "\n",
    "FROM\n",
    "    test.games\n",
    "WHERE\n",
    "    Genre = 'Action'\n",
    "        AND Year_of_release>= 2005''', conn)\n",
    "\n",
    "print(complex_df)"
   ]
  },
  {
   "cell_type": "code",
   "execution_count": null,
   "id": "55592af6",
   "metadata": {},
   "outputs": [],
   "source": []
  }
 ],
 "metadata": {
  "kernelspec": {
   "display_name": "Python 3 (ipykernel)",
   "language": "python",
   "name": "python3"
  },
  "language_info": {
   "codemirror_mode": {
    "name": "ipython",
    "version": 3
   },
   "file_extension": ".py",
   "mimetype": "text/x-python",
   "name": "python",
   "nbconvert_exporter": "python",
   "pygments_lexer": "ipython3",
   "version": "3.11.4"
  }
 },
 "nbformat": 4,
 "nbformat_minor": 5
}
